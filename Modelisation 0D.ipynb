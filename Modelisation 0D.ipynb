{
 "cells": [
  {
   "cell_type": "markdown",
   "metadata": {},
   "source": [
    "# Modélisation dromotherm 0D\n",
    "\n",
    "## auteurs: \n",
    "+ **Benoit STUTZ,Professeur**, LOCIE (Université Savoie Mont-Blanc,France) \n",
    "+ **Frédédric BERNARDIN**, Chercheur HDR, chef d'unité adjoint Mobilité Durable et Sécurité / Cerema Clermont-Ferrand\n",
    "+ **Alexandre CUER**, Directeur Adjoint / Cerema Clermont-Ferrand\n",
    "+ **Fébron SEVI**, Stagiaire master au LOCIE \n",
    "---\n",
    "A travers ce notebook, nous allons décrire une modélisation 0D d'un échangeur thermique routier développé dans le cadre du projet DROMOTHERM.\n",
    "Un échangeur routier dromotherm est une chaussée constituée de trois couches : \n",
    "+ Une couche de roulement ou de surface d'une épaisseur $h_s$\n",
    "+ Une couche drainante poreuse d'une épaisseur $h_d$\n",
    "+ Une couche de base d'une épaisseur $h_b$\n",
    "\n",
    "\n",
    "![échangeur routier](images/coupe_1.png)\n"
   ]
  },
  {
   "cell_type": "markdown",
   "metadata": {},
   "source": [
    "Cette chaussée, grâce à la circulation de l'eau dans la couche poreuse, permet de récupérer de la chaleur en été et de chauffer la chaussée en hiver.\n",
    "\n",
    "![les 2 modes de fonctionnement d'un échangeur de type dromotherm](images/dromotherm_les_2_modes.png)\n"
   ]
  },
  {
   "cell_type": "markdown",
   "metadata": {},
   "source": [
    "Pour quantifier l'énergie récupérable dans la chaussée, nous allons décrire, sous formes d'équations, les différents phénomènes thermiques ayant lieu dans les différentes couches de la chaussée. Le procedé de transfert de chaleur comprend :\n",
    "- la conduction dans la chaussée,\n",
    "- la convection entre la surface de la chaussée et l’air, \n",
    "- la convection entre l’eau et la chaussée\n",
    "- le rayonnement thermique entre la chaussée et l’atmosphère.\n",
    "\n",
    "![](images/coupe_2.png)"
   ]
  },
  {
   "cell_type": "markdown",
   "metadata": {},
   "source": [
    "# Bilan d'énergie couche par couche\n",
    "## Notations\n",
    "\n",
    "\n",
    "Notation|description|unité\n",
    "--|--|--\n",
    "$C_i$ | Capacité calorifique massique de la couche i | $\\frac{J}{m^3.K}$\n",
    "$h_i$ | Epaisseur de la couche i | m\n",
    "$T_i$ | Température de la couche i | °C\n",
    "$T_e$ | Température d'entrée ou d'injection du fluide | °C\n",
    "$T_s$ | Température de sortie du fluide | °C\n",
    "$\\alpha$ | albédo |\n",
    "$\\sigma$ | constante de Stefan-Boltzmann $5,67.10^{-8}$ |$\\frac{W}{m^2K^4}$\n",
    "$\\dot{m_f}$ | débit massique du fluide | $\\frac{kg}{s}$\n",
    "$k_i$ | conductivité thermique de la couche i | $\\frac{W}{mK}$\n",
    "$r_{i/j}$ | coefficient d'échange surfacique entre les couches i et j | $\\frac{W}{m^2K}$\n",
    "$h$ | coefficient d'echange convectif entre le fluide et la couche drainante | $\\frac{W}{m^2K}$\n",
    "\n",
    "\\begin{equation}\n",
    "r_{i/j}=\\frac{2k_i k_j}{h_i k_j+h_j k_i} \n",
    "\\end{equation}\n",
    "\n",
    "\n",
    "## Couche de surface\n",
    "\n",
    "\\begin{equation}\n",
    "C_s h_s\\frac{dT_s}{dt}=(1-\\alpha)R_g+ R_{atm} -\\epsilon\\sigma T^{4}-H_v(T_s-T_ext)-r_{s/d}(T_s-T_d)\n",
    "\\end{equation}\n",
    "\n",
    "## Couche drainante\n",
    "\n",
    "\\begin{equation}\n",
    "C_d h_d\\frac{dT_d}{dt}=r_{s/d}(T_s-T_d)-r_{d/b}(T_d-T_b)-\\dot{m_f}(T_s-T_e)\n",
    "\\end{equation}\n",
    "\n",
    "## Couche de base\n",
    "\n",
    "\\begin{equation}\n",
    "C_b h_b\\frac{dT_b}{dt}=r_{d/b}(T_d-T_b)\n",
    "\\end{equation}\n",
    "La couche de base est supposée adiabatique\n",
    "\n",
    "## Chaleur cédée au fluide par la chaussée par convection\n",
    "\\begin{equation}\n",
    "\\dot{m_f}(T_s-T_e)=hS\\Delta TLM\n",
    "\\end{equation}\n",
    "Avec \n",
    "\n",
    "\\begin{equation}\n",
    "\\Delta TLM= \\frac{T_s - T_e}{\\ ln \\frac{T_s-T_d}{T_e-T_d} }\n",
    "\\end{equation}\n",
    "\n",
    "La résolution de ce système d'équations différentielles grâce à un code Python nous a permis de tracer les différents profil de températures.\n",
    "\n",
    "Les données météos utilisées sont celles issues de la station météorologique de Saint-Flour sur l'autoroute A75, pour l'été 2010. Il s'agit de:\n",
    "* La température de l'air (mettre de le code qui affiche la température de l'air)\n",
    "* La vitesse du vent\n",
    "* Le rayonnement solaire incident global \n",
    "* Le rayonnement atmosphérique"
   ]
  },
  {
   "cell_type": "code",
   "execution_count": null,
   "metadata": {},
   "outputs": [],
   "source": []
  },
  {
   "cell_type": "markdown",
   "metadata": {},
   "source": [
    "## Figure des différents profils\n",
    "(Mettre le code)"
   ]
  },
  {
   "cell_type": "markdown",
   "metadata": {},
   "source": [
    "## Energie et taux de récupération\n",
    "(mettre le code)"
   ]
  },
  {
   "cell_type": "code",
   "execution_count": null,
   "metadata": {},
   "outputs": [],
   "source": []
  }
 ],
 "metadata": {
  "kernelspec": {
   "display_name": "Python 3",
   "language": "python",
   "name": "python3"
  },
  "language_info": {
   "codemirror_mode": {
    "name": "ipython",
    "version": 3
   },
   "file_extension": ".py",
   "mimetype": "text/x-python",
   "name": "python",
   "nbconvert_exporter": "python",
   "pygments_lexer": "ipython3",
   "version": "3.6.5"
  }
 },
 "nbformat": 4,
 "nbformat_minor": 4
}
